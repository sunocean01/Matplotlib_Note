{
 "cells": [
  {
   "cell_type": "markdown",
   "id": "88a29a96",
   "metadata": {
    "toc": true
   },
   "source": [
    "<h1>Table of Contents<span class=\"tocSkip\"></span></h1>\n",
    "<div class=\"toc\"><ul class=\"toc-item\"><li><span><a href=\"#坐标轴刻度设置\" data-toc-modified-id=\"坐标轴刻度设置-1\"><span class=\"toc-item-num\">1&nbsp;&nbsp;</span>坐标轴刻度设置</a></span><ul class=\"toc-item\"><li><span><a href=\"#数据类型,刻度间隔设置\" data-toc-modified-id=\"数据类型,刻度间隔设置-1.1\"><span class=\"toc-item-num\">1.1&nbsp;&nbsp;</span>数据类型,刻度间隔设置</a></span></li><li><span><a href=\"#日期类型:设置周期间隔\" data-toc-modified-id=\"日期类型:设置周期间隔-1.2\"><span class=\"toc-item-num\">1.2&nbsp;&nbsp;</span>日期类型:设置周期间隔</a></span></li></ul></li><li><span><a href=\"#中文显示乱码问题\" data-toc-modified-id=\"中文显示乱码问题-2\"><span class=\"toc-item-num\">2&nbsp;&nbsp;</span>中文显示乱码问题</a></span></li></ul></div>"
   ]
  },
  {
   "cell_type": "code",
   "execution_count": 1,
   "id": "36c21343",
   "metadata": {},
   "outputs": [],
   "source": [
    "import matplotlib.pyplot as plt\n",
    "import pandas as pd\n",
    "import matplotlib as mpl\n",
    "import matplotlib.lines as mlines\n",
    "import matplotlib.patches as mpatches\n",
    "import matplotlib.cm as cm\n",
    "import matplotlib.colors as mcolors\n",
    "from numpy.random import multivariate_normal\n",
    "from matplotlib.dates import DayLocator, HourLocator, DateFormatter, drange\n",
    "import datetime\n",
    "from matplotlib import rcParams\n",
    "import numpy as np\n",
    "from matplotlib.lines import Line2D\n",
    "from matplotlib.font_manager import FontProperties\n",
    "import matplotlib.cbook as cbook\n",
    "import matplotlib.transforms as mtransforms"
   ]
  },
  {
   "cell_type": "markdown",
   "id": "f85b69cc",
   "metadata": {},
   "source": [
    "# 坐标轴刻度设置"
   ]
  },
  {
   "cell_type": "markdown",
   "id": "0a784b44",
   "metadata": {},
   "source": [
    "## 数据类型,刻度间隔设置"
   ]
  },
  {
   "cell_type": "code",
   "execution_count": null,
   "id": "36ff9ab3",
   "metadata": {},
   "outputs": [],
   "source": [
    "from matplotlib.pyplot import MultipleLocator\n",
    "x_major_locator=MultipleLocator(1)\n",
    "ax1.xaxis.set_major_locator(x_major_locator)"
   ]
  },
  {
   "cell_type": "markdown",
   "id": "7c63c003",
   "metadata": {},
   "source": [
    "## 日期类型:设置周期间隔"
   ]
  },
  {
   "cell_type": "code",
   "execution_count": null,
   "id": "75af26b8",
   "metadata": {},
   "outputs": [],
   "source": [
    "import matplotlib.dates as dates"
   ]
  },
  {
   "cell_type": "code",
   "execution_count": null,
   "id": "498d47fe",
   "metadata": {},
   "outputs": [],
   "source": [
    "#获取每月一日数据\n",
    "monthdays = dates.MonthLocator()\n",
    "#获取每周一的日期数据\n",
    "mondays = dates.WeekdayLocator(dates.MONDAY)\n",
    "#获取每日数据 \n",
    "alldays = dates.DayLocator()\n",
    "\n",
    "mindays = dates.MinuteLocator()"
   ]
  },
  {
   "cell_type": "code",
   "execution_count": null,
   "id": "94b6f550",
   "metadata": {},
   "outputs": [],
   "source": [
    "monthFormatter = dates.DateFormatter('%m-%Y') # 如：2-2015\n",
    "dayFormatter = dates.DateFormatter('%d')          # 如：12\n",
    "minFormatter = dates.DateFormatter(\"%Y%m %H:%M\")"
   ]
  },
  {
   "cell_type": "code",
   "execution_count": null,
   "id": "5d8a775f",
   "metadata": {},
   "outputs": [],
   "source": [
    "fig = plt.figure(figsize=(18,8))\n",
    "ax = fig.add_subplot()\n",
    "\n",
    "# 1. 设置主次刻度的值的类型,比如是到年,还是到月,还是日,...\n",
    "#设置主刻度 即长刻度线\n",
    "ax.xaxis.set_major_locator(mondays)\n",
    "#设置副刻度 即短刻度线\n",
    "ax.xaxis.set_minor_locator(alldays)\n",
    "\n",
    "\n",
    "# 2. 设置主次刻度数据格式\n",
    "#设置主刻度格式\n",
    "ax.xaxis.set_major_formatter(monthFormatter)\n",
    "\n",
    "data[[\"open\",\"high\"]].plot(rot=90,ax=ax)\n",
    "\n",
    "#自动调整xtick的间距\n",
    "# fig.autofmt_xdate()"
   ]
  },
  {
   "cell_type": "markdown",
   "id": "8d9e34c8",
   "metadata": {},
   "source": [
    "# 中文显示乱码问题"
   ]
  },
  {
   "cell_type": "code",
   "execution_count": null,
   "id": "c602c3da",
   "metadata": {},
   "outputs": [],
   "source": [
    "# 临时解决办法:加入下面代码即可:\n",
    "\n",
    "plt.rcParams['font.sans-serif']=['SimHei']    # 用来设置字体样式以正常显示中文标签\n",
    "plt.rcParams['axes.unicode_minus']=False    # 默认是使用Unicode负号，设置正常显示字符，如正常显示负号"
   ]
  },
  {
   "cell_type": "raw",
   "id": "e6586182",
   "metadata": {},
   "source": [
    "# 永久解决办法:\n",
    "1. 找到自己想要的中文字体\n",
    "    在系统中查找已有的字体（好处是不需要安装）：在“C:\\Windows\\Fonts”中选择后缀为“.ttf”的中文字体并复制，这一步我选择了黑体\n",
    "    在 fontpalace 上下载对应版本的后缀为“.ttf”的字体，复制到“C:\\Windows\\Fonts”中安装\n",
    "    \n",
    "2. 把字体复制到matplotlib的字体文件中:\n",
    "    输入下面命令找到matplotlib配置文件\n",
    "        print(matplotlib.matplotlib_fname())\n",
    "    在“c:\\program files\\python37\\lib\\site-packages\\matplotlib\\mpl-data\\matplotlibrc”的“font/ttf”文件夹中粘贴刚刚复制的字体，然后修改配置文件matplotlibrc，去掉以下三行代码开头的#\n",
    "    font.family         : sans-serif\n",
    "    font.sans-serif     : SimHei, DejaVu Sans, Bitstream Vera Sans, ...    # 这里注意要把字体名称SimHei放在第一个\n",
    "    axes.unicode_minus  : False    # 修改为False，作用是解决负号的乱码问题\n",
    "    \n",
    "    还要注意有的字体名称并不是字体文件的名称，可以查看字体文件的属性（标题）确认一下\n",
    "    \n",
    "3. 重新加载字体\n",
    "    做完以上操作后执行下面命令\n",
    "        from matplotlib.font_manager import _rebuild\n",
    "            _rebuild()\n",
    "    之后重启python，很多时候这样就解决了。\n",
    "    \n",
    "4. 删除matplotlib缓存文件\n",
    "    如果仍然不能正常显示输入以下代码\n",
    "        matplotlib.get_cachedir()\n",
    "    在’C:\\Users\\sunch.matplotlib’找到缓存文件夹并删除该文件夹，之后重启python，如果还是不行可以试试重启电脑，我就是重启了才可以，果然没有什么是一次重启解决不了的，如果有那就两次"
   ]
  }
 ],
 "metadata": {
  "kernelspec": {
   "display_name": "Python 38",
   "language": "python",
   "name": "python3"
  },
  "language_info": {
   "codemirror_mode": {
    "name": "ipython",
    "version": 3
   },
   "file_extension": ".py",
   "mimetype": "text/x-python",
   "name": "python",
   "nbconvert_exporter": "python",
   "pygments_lexer": "ipython3",
   "version": "3.8.6"
  },
  "toc": {
   "base_numbering": 1,
   "nav_menu": {},
   "number_sections": true,
   "sideBar": true,
   "skip_h1_title": false,
   "title_cell": "Table of Contents",
   "title_sidebar": "Contents",
   "toc_cell": true,
   "toc_position": {},
   "toc_section_display": true,
   "toc_window_display": true
  }
 },
 "nbformat": 4,
 "nbformat_minor": 5
}
